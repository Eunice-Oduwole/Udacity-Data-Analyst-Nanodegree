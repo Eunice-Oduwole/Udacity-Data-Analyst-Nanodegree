{
 "cells": [
  {
   "cell_type": "markdown",
   "metadata": {},
   "source": [
    "# WeRateDogs (Wragle and Analyze Data)\n",
    "## by Eunice Oduwole\n",
    "\n",
    "## Introduction\n",
    "\n",
    "In this project, the goal is to use python libraries to gather data from a variety of sources and in a variety of formats, assess its quality and tidiness, clean it and then analyse and produce visualizations. \n",
    "\n",
    "## Dataset\n",
    "\n",
    "The dataset to be wrangle is the tweet archive of the user WeRateDogs. WeRateDogs is a Twitter account that rates people's dogs with a humorous comment about the dog. These ratings almost always have a denominator of 10. The numerators, though? Almost always greater than 10. 11/10, 12/10, 13/10, etc. Why? Because \"they're good dogs Brent.\" WeRateDogs has over 4 million followers and has received international media coverage.\n",
    "\n",
    "The archive provided to Udacity by WeRateDogs containsbasic tweet data (tweet ID, timestamp, text, etc.) for all 5000+ of their tweets as they stood on August 1, 2017 but retweet count and favorite count are two of the notable column omitted.\n",
    "\n",
    "## Wrangle Process\n",
    "In other to gather the ommitted data, I will be using Tweepy to query Twitter's API for additional data beyond the data included in the WeRateDogs Twitter archive. This additional data will include retweet count and favorite count.\n",
    "\n",
    "\n",
    "\n",
    "\n",
    "## Summary of Findings\n",
    "I looked at the characteristics of bike hiring that could be used to predict trip duration. The main focus was on the day of the week, user type (subscriber or customer i.e casual user) and hours of the day. \n",
    "I found the distribution of the hour of day is roughly bimodal, with the first peak roughly between 8 and 10, and the second peak between 16 and 20. There appears to be a steep jump right before 16. It was observed that most trips are taken between Monday to Friday. While Thursday seems to have a higher frequency than other days. Location had no impact on the trip duration. It is surprsing to see that more customer has a higer trip duration in contrast to the subscriber. Thus, been a subscriber or customer doesn't have a limit how long an individual can ride. I expected subcriber to have the benefit of riding a longer distance, but appears that it doesn't matter if the individual is subscriber or casual users (customer). It was also interesting to discover that at 3:00 in the morining there is a higer trip duration, this I guess could be as a result of few avilablle transportation options at that time if the day. The longer trips are taken during the weekends (Sunday and Saturday), this could be because its a free time of everbody. Starting from 8:00 in the morning, the trip duration is about 520 seconds on average.\n",
    "\n",
    "\n",
    "\n",
    "\n",
    "\n",
    "\n",
    "## Key Insights for Presentation\n",
    "For the presentation I focused more on the impact of day of the week, hour of the day and user type on trip duration. \n",
    "\n",
    "I started by showing the distribtions of all variables of interest. Then I showed the plot of intercation user type versus trip duration, trip duration versus day of the week. I also introduced a plot for Trip duration and hour by days of the week, and Trip duration and hours of the day by users. The last two graph were added to further emphasis on the finding. \n",
    "\n"
   ]
  }
 ],
 "metadata": {
  "kernelspec": {
   "display_name": "Python 3",
   "language": "python",
   "name": "python3"
  },
  "language_info": {
   "codemirror_mode": {
    "name": "ipython",
    "version": 3
   },
   "file_extension": ".py",
   "mimetype": "text/x-python",
   "name": "python",
   "nbconvert_exporter": "python",
   "pygments_lexer": "ipython3",
   "version": "3.7.6"
  }
 },
 "nbformat": 4,
 "nbformat_minor": 4
}
